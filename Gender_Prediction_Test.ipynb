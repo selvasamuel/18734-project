{
 "cells": [
  {
   "cell_type": "code",
   "execution_count": 2,
   "metadata": {},
   "outputs": [
    {
     "name": "stderr",
     "output_type": "stream",
     "text": [
      "Using TensorFlow backend.\n"
     ]
    }
   ],
   "source": [
    "from collections import Counter\n",
    "from datetime import datetime\n",
    "import json\n",
    "from keras.models import load_model\n",
    "from keras.preprocessing.sequence import pad_sequences\n",
    "from keras.preprocessing.text import text_to_word_sequence\n",
    "import pickle\n",
    "import numpy as np\n",
    "from matplotlib import pyplot as plt\n",
    "# caleb_path = '/Users/CalebKaijiLu/Documents/yelp_dataset/'\n",
    "caleb_path = '/home/caleb/schoolwork/yelp_dataset/'\n",
    "selva_path = ''"
   ]
  },
  {
   "cell_type": "markdown",
   "metadata": {},
   "source": [
    "# Single Review Gender Prediction"
   ]
  },
  {
   "cell_type": "code",
   "execution_count": 3,
   "metadata": {
    "collapsed": true
   },
   "outputs": [],
   "source": [
    "with open(\"tokenizer_gender_single_server.pickle\", \"rb\") as f:\n",
    "       tokenizer = pickle.load(f)\n",
    "\n",
    "model = load_model(\"yelp_gender_single_model_server.hdf5\")"
   ]
  },
  {
   "cell_type": "code",
   "execution_count": 16,
   "metadata": {},
   "outputs": [
    {
     "name": "stdout",
     "output_type": "stream",
     "text": [
      "[[ 0.02197664]\n",
      " [ 0.91792458]\n",
      " [ 0.540914  ]\n",
      " [ 0.60598183]]\n"
     ]
    }
   ],
   "source": [
    "# replace with the data you want to classify\n",
    "newtexts = [\"My wife took me to dinner\",'My husband took me to dinner','My friend took me to dinner','I went with my kids']\n",
    "# note that we shouldn't call \"fit\" on the tokenizer again\n",
    "sequences = tokenizer.texts_to_sequences(newtexts)\n",
    "data = pad_sequences(sequences, maxlen=300)\n",
    "\n",
    "# get predictions for each of your new texts\n",
    "predictions = model.predict(data)\n",
    "print(predictions)\n"
   ]
  },
  {
   "cell_type": "code",
   "execution_count": 40,
   "metadata": {},
   "outputs": [
    {
     "name": "stdout",
     "output_type": "stream",
     "text": [
      "[[ 0.49949434]\n",
      " [ 0.56273288]\n",
      " [ 0.75836354]\n",
      " [ 0.84929174]\n",
      " [ 0.87533987]]\n"
     ]
    }
   ],
   "source": [
    "# replace with the data you want to classify\n",
    "newtexts = ['the food is amazing','Oh my god the food is amazing','oh my god the food is sooooo amazing','oh my god the food is sooooo amazing! I love this place!!','oh my god the food is sooooo amazing!! I luv this place!! ']\n",
    "# note that we shouldn't call \"fit\" on the tokenizer again\n",
    "sequences = tokenizer.texts_to_sequences(newtexts)\n",
    "data = pad_sequences(sequences, maxlen=300)\n",
    "\n",
    "# get predictions for each of your new texts\n",
    "predictions = model.predict(data)\n",
    "print(predictions)\n"
   ]
  },
  {
   "cell_type": "markdown",
   "metadata": {},
   "source": [
    "# User-based Review Gender Prediction (TO DO)"
   ]
  },
  {
   "cell_type": "code",
   "execution_count": 5,
   "metadata": {
    "collapsed": true
   },
   "outputs": [],
   "source": [
    "with open(\"tokenizer_gender_single_server.pickle\", \"rb\") as f:\n",
    "       tokenizer = pickle.load(f)\n",
    "\n",
    "model = load_model(\"yelp_sentiment_model_server.hdf5\")"
   ]
  },
  {
   "cell_type": "code",
   "execution_count": 11,
   "metadata": {},
   "outputs": [
    {
     "name": "stdout",
     "output_type": "stream",
     "text": [
      "[[ 0.75240165]]\n",
      "['my', 'girlfriend', 'and', 'i', 'stayed', 'here', 'for', '3', 'nights', 'and', 'loved', 'it']\n"
     ]
    }
   ],
   "source": [
    "# replace with the data you want to classify\n",
    "newtexts = [\"My girlfriend and I stayed here for 3 nights and loved it.\"]\n",
    "word_sequences = text_to_word_sequence(newtexts[0])\n",
    "# note that we shouldn't call \"fit\" on the tokenizer again\n",
    "sequences = tokenizer.texts_to_sequences(newtexts)\n",
    "data = pad_sequences(sequences, maxlen=300)\n",
    "\n",
    "# get predictions for each of your new texts\n",
    "predictions = model.predict(data)\n",
    "print(predictions)\n",
    "print(word_sequences)"
   ]
  },
  {
   "cell_type": "markdown",
   "metadata": {},
   "source": [
    "# Explanations"
   ]
  },
  {
   "cell_type": "markdown",
   "metadata": {
    "collapsed": true
   },
   "source": [
    "## 1-gram Masking"
   ]
  },
  {
   "cell_type": "code",
   "execution_count": 34,
   "metadata": {},
   "outputs": [
    {
     "name": "stdout",
     "output_type": "stream",
     "text": [
      "[[ 0.8224622]]\n",
      "['ask', 'for', 'kim', 'or', 'steven', 'to', 'do', 'your', 'nails']\n"
     ]
    }
   ],
   "source": [
    "#newtext = \"My girlfriend and I stayed here for 3 nights and loved it.\"\n",
    "#newtext = \"by far the best nail salon I have been to.\"\n",
    "newtext = \"Ask for Kim or Steven to do your nails!\"\n",
    "word_sequence = text_to_word_sequence(newtext)\n",
    "newtext = \" \".join(word_sequence)\n",
    "# note that we shouldn't call \"fit\" on the tokenizer again\n",
    "sequences = tokenizer.texts_to_sequences([newtext])\n",
    "data = pad_sequences(sequences, maxlen=300)\n",
    "\n",
    "# get predictions for each of your new texts\n",
    "orig_predictions = model.predict(data)\n",
    "print(orig_predictions)\n",
    "print(word_sequence)"
   ]
  },
  {
   "cell_type": "code",
   "execution_count": 35,
   "metadata": {},
   "outputs": [
    {
     "name": "stdout",
     "output_type": "stream",
     "text": [
      "[0 1 2 3 4 5 6 7 8]\n",
      "['ask', 'for', 'kim', 'or', 'steven', 'to', 'do', 'your', 'nails']\n",
      "[0.82479006, 0.82862306, 0.8358171, 0.83888799, 0.69181931, 0.74580151, 0.78236896, 0.73273522, 0.3401852]\n"
     ]
    },
    {
     "data": {
      "image/png": "[encoded data removed]",
      "text/plain": [
       "<matplotlib.figure.Figure at 0x128edff28>"
      ]
     },
     "metadata": {},
     "output_type": "display_data"
    }
   ],
   "source": [
    "#word_set = set(word_sequence)\n",
    "word_set = word_sequence\n",
    "x = []\n",
    "y = []\n",
    "for word_to_remove in word_set:\n",
    "    new_word_sequence = [word for word in word_sequence if word != word_to_remove]\n",
    "    newtext = \" \".join(new_word_sequence)\n",
    "    sequences = tokenizer.texts_to_sequences([newtext])\n",
    "    data = pad_sequences(sequences, maxlen=300)\n",
    "    predictions = model.predict(data)\n",
    "    x.append(word_to_remove)\n",
    "    y.append(predictions[0][0])\n",
    "    \n",
    "x_pos = np.arange(len(x))\n",
    "fontsize=14\n",
    "#mpl.rcParams['xtick.labelsize'] = fontsize\n",
    "#mpl.rcParams['ytick.labelsize'] = fontsize\n",
    "plt.figure(num=1, figsize=(9, 6))\n",
    "plt.bar(x_pos, y, align='center', alpha=0.5)\n",
    "print(np.arange(len(x)))\n",
    "print(x)\n",
    "print(y)\n",
    "plt.xticks(x_pos, x)\n",
    "plt.axhline(y=orig_predictions[0][0], color='r', linestyle='-')\n",
    "plt.ylabel('Prediction Score', fontsize=fontsize)\n",
    "plt.title('Influence of words in review on prediction score', fontsize=fontsize)\n",
    "plt.show()"
   ]
  }
 ],
 "metadata": {
  "kernelspec": {
   "display_name": "Python 3",
   "language": "python",
   "name": "python3"
  },
  "language_info": {
   "codemirror_mode": {
    "name": "ipython",
    "version": 3
   },
   "file_extension": ".py",
   "mimetype": "text/x-python",
   "name": "python",
   "nbconvert_exporter": "python",
   "pygments_lexer": "ipython3",
   "version": "3.6.3"
  }
 },
 "nbformat": 4,
 "nbformat_minor": 2
}
