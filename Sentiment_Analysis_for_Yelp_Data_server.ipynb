{
 "cells": [
  {
   "cell_type": "code",
   "execution_count": 1,
   "metadata": {},
   "outputs": [
    {
     "name": "stderr",
     "output_type": "stream",
     "text": [
      "Using TensorFlow backend.\n"
     ]
    }
   ],
   "source": [
    "from collections import Counter\n",
    "from datetime import datetime\n",
    "import json\n",
    "\n",
    "from keras.layers import Embedding, LSTM, Dense, Conv1D, MaxPooling1D, Dropout, Activation\n",
    "from keras.models import Sequential\n",
    "from keras.preprocessing.text import Tokenizer,text_to_word_sequence\n",
    "from keras.preprocessing.sequence import pad_sequences\n",
    "from IntegratedGradients import * \n",
    "from keras.models import load_model\n",
    "import pickle\n",
    "import numpy as np\n",
    "from matplotlib import pyplot as plt\n",
    "# caleb_path = '/Users/CalebKaijiLu/Documents/yelp_dataset/'\n",
    "caleb_path = '/home/caleb/schoolwork/yelp_dataset/'\n",
    "selva_path = ''"
   ]
  },
  {
   "cell_type": "code",
   "execution_count": 2,
   "metadata": {
    "collapsed": true
   },
   "outputs": [],
   "source": [
    "def word_to_embedding(embeddings,data):\n",
    "    N = embeddings.shape[0]\n",
    "    M = embeddings.shape[1]\n",
    "    embeddings_aug = np.zeros([N+1,M])\n",
    "    embeddings_aug[1:,:]=embeddings\n",
    "    return embeddings_aug[np.array(data)]"
   ]
  },
  {
   "cell_type": "code",
   "execution_count": 3,
   "metadata": {
    "collapsed": true
   },
   "outputs": [],
   "source": [
    "def train_model(balanced_texts,balanced_labels):\n",
    "    tokenizer = Tokenizer(num_words=20000)\n",
    "    tokenizer.fit_on_texts(balanced_texts)\n",
    "    sequences = tokenizer.texts_to_sequences(balanced_texts)\n",
    "    data = pad_sequences(sequences, maxlen=300)\n",
    "\n",
    "    model = Sequential()\n",
    "    model.add(Embedding(20000, 128, input_length=300))\n",
    "    model.add(Dropout(0.2))\n",
    "    model.add(Conv1D(64, 5, activation='relu'))\n",
    "    model.add(MaxPooling1D(pool_size=4))\n",
    "    model.add(LSTM(128,dropout=0.2, recurrent_dropout=0.2))\n",
    "    model.add(Dense(1, activation='sigmoid'))\n",
    "    model.summary()\n",
    "    model.compile(loss='binary_crossentropy', optimizer='adam', metrics=['accuracy'])\n",
    "    model.fit(data, np.array(balanced_labels), validation_split=0.5, epochs=3,batch_size = 64)\n",
    "    return tokenizer,model"
   ]
  },
  {
   "cell_type": "code",
   "execution_count": 4,
   "metadata": {},
   "outputs": [
    {
     "name": "stdout",
     "output_type": "stream",
     "text": [
      "0:01:03.037870\n"
     ]
    }
   ],
   "source": [
    "t1 = datetime.now()\n",
    "with open(caleb_path + \"review.json\") as f:\n",
    "    reviews = f.read().strip().split(\"\\n\")\n",
    "# reviews = reviews[:10000]\n",
    "reviews = [json.loads(review) for review in reviews]\n",
    "print(datetime.now() - t1)"
   ]
  },
  {
   "cell_type": "markdown",
   "metadata": {},
   "source": [
    "# Sentiment Analysis"
   ]
  },
  {
   "cell_type": "code",
   "execution_count": null,
   "metadata": {
    "collapsed": true
   },
   "outputs": [],
   "source": [
    "# Get a balanced sample of positive and negative reviews\n",
    "# texts = [review['text'] for review in reviews]\n",
    "reviews = [review for review in reviews if review['stars']!=3 ]\n",
    "# Convert our 5 classes into 2 (negative or positive)\n",
    "binstars = [0 if review['stars'] < 3 else 1 for review in reviews]\n",
    "balanced_texts = []\n",
    "balanced_labels = []\n",
    "limit = 200000  #Change this to grow/shrink the dataset\n",
    "neg_pos_counts = [0, 0]\n",
    "for i in range(len(texts)):\n",
    "    polarity = binstars[i]\n",
    "    if neg_pos_counts[polarity]<limit:\n",
    "        balanced_texts.append(texts[i])\n",
    "        balanced_labels.append(binstars[i])\n",
    "        neg_pos_counts[polarity]+=1\n",
    "Counter(balanced_labels)"
   ]
  },
  {
   "cell_type": "code",
   "execution_count": null,
   "metadata": {
    "collapsed": true
   },
   "outputs": [],
   "source": [
    "tokenizer,model = train_model(balanced_texts,balanced_labels)"
   ]
  },
  {
   "cell_type": "code",
   "execution_count": 48,
   "metadata": {
    "collapsed": true
   },
   "outputs": [],
   "source": [
    "# save the tokenizer and model\n",
    "with open(\"keras_tokenizer_server.pickle\", \"wb\") as f:\n",
    "        pickle.dump(tokenizer, f)\n",
    "model.save(\"yelp_sentiment_model_server.hdf5\")"
   ]
  },
  {
   "cell_type": "markdown",
   "metadata": {},
   "source": [
    "# Sentiment Anaysis"
   ]
  },
  {
   "cell_type": "markdown",
   "metadata": {},
   "source": [
    "## Loading the Model & Tokenizer"
   ]
  },
  {
   "cell_type": "code",
   "execution_count": 4,
   "metadata": {
    "collapsed": true
   },
   "outputs": [],
   "source": [
    "with open(\"keras_tokenizer_server.pickle\", \"rb\") as f:\n",
    "       tokenizer = pickle.load(f)\n",
    "\n",
    "model = load_model(\"yelp_sentiment_model_server.hdf5\")"
   ]
  },
  {
   "cell_type": "markdown",
   "metadata": {},
   "source": [
    "## Use the tokenizer to generate input for the model"
   ]
  },
  {
   "cell_type": "code",
   "execution_count": 33,
   "metadata": {},
   "outputs": [
    {
     "name": "stdout",
     "output_type": "stream",
     "text": [
      "[[ 0.01297624]]\n",
      "['the', 'tacos', 'tastes', 'awful', 'would', 'not', 'recommend']\n"
     ]
    }
   ],
   "source": [
    "# replace with the data you want to classify\n",
    "newtexts = [\"The tacos tastes awful would not recommend\"]\n",
    "word_sequences = text_to_word_sequence(newtexts[0])\n",
    "# note that we shouldn't call \"fit\" on the tokenizer again\n",
    "sequences = tokenizer.texts_to_sequences(newtexts)\n",
    "data = pad_sequences(sequences, maxlen=300)\n",
    "\n",
    "# get predictions for each of your new texts\n",
    "predictions = model.predict(data)\n",
    "print(predictions)\n",
    "print(word_sequences)"
   ]
  },
  {
   "cell_type": "markdown",
   "metadata": {},
   "source": [
    "## Integrated Gradients (Not working really well, need to improve)"
   ]
  },
  {
   "cell_type": "code",
   "execution_count": 34,
   "metadata": {},
   "outputs": [
    {
     "name": "stdout",
     "output_type": "stream",
     "text": [
      "(2,)\n",
      "Evaluated output channel (0-based index): All\n",
      "Building gradient functions\n",
      "[<tf.Tensor 'embedding_3/Gather:0' shape=(?, 300, 128) dtype=float32>, <tf.Tensor 'dropout_3/keras_learning_phase:0' shape=<unknown> dtype=bool>] [<tf.Tensor 'gradients_15/AddN_7:0' shape=(?, 300, 128) dtype=float32>]\n",
      "Progress: 100.0%\n",
      "Done.\n",
      "Haha\n",
      "(50, 300, 128)\n",
      "1\n",
      "[293 294 295 296 297 298 299]\n",
      "(7,)\n"
     ]
    },
    {
     "data": {
      "image/png": "[encoded data removed]",
      "text/plain": [
       "<matplotlib.figure.Figure at 0x18424e9f60>"
      ]
     },
     "metadata": {},
     "output_type": "display_data"
    }
   ],
   "source": [
    "embeddings = model.layers[0].get_weights()[0]\n",
    "word_embeddings = word_to_embedding(embeddings,data)\n",
    "ig = integrated_gradients(model)\n",
    "explanations = ig.explain(word_to_embedding(embeddings,data))\n",
    "print(len(explanations))\n",
    "final_explanations = np.abs(np.sum(np.abs(explanations[0]),axis = 1))\n",
    "print(np.where(final_explanations!=0)[0])\n",
    "final_explanations = final_explanations[np.where(final_explanations!=0)]\n",
    "print(final_explanations.shape)\n",
    "y_pos = np.arange(len(final_explanations))\n",
    "plt.bar(y_pos,final_explanations,align='center', alpha=0.5)\n",
    "plt.xticks(y_pos, word_sequences)\n",
    "plt.ylabel('Integrated Gradients')\n",
    "plt.title('Explanations for word in Review')\n",
    "plt.show()"
   ]
  },
  {
   "cell_type": "code",
   "execution_count": null,
   "metadata": {
    "collapsed": true
   },
   "outputs": [],
   "source": []
  },
  {
   "cell_type": "code",
   "execution_count": null,
   "metadata": {
    "collapsed": true
   },
   "outputs": [],
   "source": []
  }
 ],
 "metadata": {
  "kernelspec": {
   "display_name": "Python 3",
   "language": "python",
   "name": "python3"
  },
  "language_info": {
   "codemirror_mode": {
    "name": "ipython",
    "version": 3
   },
   "file_extension": ".py",
   "mimetype": "text/x-python",
   "name": "python",
   "nbconvert_exporter": "python",
   "pygments_lexer": "ipython3",
   "version": "3.6.3"
  }
 },
 "nbformat": 4,
 "nbformat_minor": 1
}
