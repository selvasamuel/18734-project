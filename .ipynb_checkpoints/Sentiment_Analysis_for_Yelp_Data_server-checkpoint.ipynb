{
 "cells": [
  {
   "cell_type": "code",
   "execution_count": 8,
   "metadata": {},
   "outputs": [
    {
     "name": "stderr",
     "output_type": "stream",
     "text": [
      "/home/caleb/miniconda3/lib/python3.6/site-packages/matplotlib/font_manager.py:279: UserWarning: Matplotlib is building the font cache using fc-list. This may take a moment.\n",
      "  'Matplotlib is building the font cache using fc-list. '\n"
     ]
    }
   ],
   "source": [
    "from collections import Counter\n",
    "from datetime import datetime\n",
    "import json\n",
    "\n",
    "from keras.layers import Embedding, LSTM, Dense, Conv1D, MaxPooling1D, Dropout, Activation\n",
    "from keras.models import Sequential\n",
    "from keras.preprocessing.text import Tokenizer,text_to_word_sequence\n",
    "from keras.preprocessing.sequence import pad_sequences\n",
    "from IntegratedGradients import * \n",
    "from keras.models import load_model\n",
    "import pickle\n",
    "import numpy as np\n",
    "from matplotlib import pyplot as plt\n",
    "# caleb_path = '/Users/CalebKaijiLu/Documents/yelp_dataset/'\n",
    "caleb_path = '/home/caleb/schoolwork/yelp_dataset/'\n",
    "selva_path = ''"
   ]
  },
  {
   "cell_type": "code",
   "execution_count": null,
   "metadata": {
    "collapsed": true
   },
   "outputs": [],
   "source": [
    "def word_to_embedding(embeddings,data):\n",
    "    N = embeddings.shape[0]\n",
    "    M = embeddings.shape[1]\n",
    "    embeddings_aug = np.zeros([N+1,M])\n",
    "    embeddings_aug[1:,:]=embeddings\n",
    "    return embeddings_aug[np.array(data)]"
   ]
  },
  {
   "cell_type": "code",
   "execution_count": null,
   "metadata": {},
   "outputs": [],
   "source": [
    "\n",
    "t1 = datetime.now()\n",
    "with open(caleb_path + \"review.json\") as f:\n",
    "    reviews = f.read().strip().split(\"\\n\")\n",
    "# reviews = reviews[:10000]\n",
    "reviews = [json.loads(review) for review in reviews]\n",
    "print(datetime.now() - t1)"
   ]
  },
  {
   "cell_type": "code",
   "execution_count": null,
   "metadata": {},
   "outputs": [],
   "source": [
    "# Get a balanced sample of positive and negative reviews\n",
    "# texts = [review['text'] for review in reviews]\n",
    "reviews = [review for review in reviews if review['stars']!=3 ]\n",
    "# Convert our 5 classes into 2 (negative or positive)\n",
    "binstars = [0 if review['stars'] < 3 else 1 for review in reviews]\n",
    "balanced_texts = []\n",
    "balanced_labels = []\n",
    "limit = 200000  #Change this to grow/shrink the dataset\n",
    "neg_pos_counts = [0, 0]\n",
    "for i in range(len(texts)):\n",
    "    polarity = binstars[i]\n",
    "    if neg_pos_counts[polarity]<limit:\n",
    "        balanced_texts.append(texts[i])\n",
    "        balanced_labels.append(binstars[i])\n",
    "        neg_pos_counts[polarity]+=1"
   ]
  },
  {
   "cell_type": "code",
   "execution_count": null,
   "metadata": {
    "scrolled": true
   },
   "outputs": [],
   "source": [
    "Counter(balanced_labels)"
   ]
  },
  {
   "cell_type": "code",
   "execution_count": null,
   "metadata": {
    "collapsed": true
   },
   "outputs": [],
   "source": [
    "tokenizer = Tokenizer(num_words=5)\n",
    "toytexts = [\"Is is a common word\", \"So is the\", \"the is common\", \"discombobulation is not common\"]\n",
    "tokenizer.fit_on_texts(toytexts)\n",
    "sequences = tokenizer.texts_to_sequences(toytexts)\n",
    "\n",
    "\n",
    "# >>> [[1, 1, 4, 2], [1, 3], [3, 1, 2], [1, 2]]"
   ]
  },
  {
   "cell_type": "code",
   "execution_count": null,
   "metadata": {},
   "outputs": [],
   "source": [
    "print(sequences)\n",
    "# >>> [[1, 1, 4, 2], [1, 3], [3, 1, 2], [1, 2]]"
   ]
  },
  {
   "cell_type": "code",
   "execution_count": null,
   "metadata": {
    "collapsed": true
   },
   "outputs": [],
   "source": [
    "tokenizer = Tokenizer(num_words=20000)\n",
    "tokenizer.fit_on_texts(balanced_texts)\n",
    "sequences = tokenizer.texts_to_sequences(balanced_texts)\n",
    "data = pad_sequences(sequences, maxlen=300)"
   ]
  },
  {
   "cell_type": "code",
   "execution_count": null,
   "metadata": {},
   "outputs": [],
   "source": [
    "model = Sequential()\n",
    "model.add(Embedding(20000, 128, input_length=300))\n",
    "model.add(Dropout(0.2))\n",
    "model.add(Conv1D(64, 5, activation='relu'))\n",
    "model.add(MaxPooling1D(pool_size=4))\n",
    "model.add(LSTM(128,dropout=0.2, recurrent_dropout=0.2))\n",
    "model.add(Dense(1, activation='sigmoid'))\n",
    "model.summary()\n",
    "model.compile(loss='binary_crossentropy', optimizer='adam', metrics=['accuracy'])\n",
    "model.fit(data, np.array(balanced_labels), validation_split=0.5, epochs=3,batch_size = 32)"
   ]
  },
  {
   "cell_type": "code",
   "execution_count": null,
   "metadata": {},
   "outputs": [],
   "source": [
    "# save the tokenizer and model\n",
    "with open(\"keras_tokenizer_server.pickle\", \"wb\") as f:\n",
    "        pickle.dump(tokenizer, f)\n",
    "model.save(\"yelp_sentiment_model_server.hdf5\")"
   ]
  },
  {
   "cell_type": "markdown",
   "metadata": {},
   "source": [
    "# Loading the Model"
   ]
  },
  {
   "cell_type": "code",
   "execution_count": 9,
   "metadata": {},
   "outputs": [],
   "source": [
    "with open(\"keras_tokenizer_server.pickle\", \"rb\") as f:\n",
    "       tokenizer = pickle.load(f)\n",
    "\n",
    "model = load_model(\"yelp_sentiment_model_server.hdf5\")"
   ]
  },
  {
   "cell_type": "markdown",
   "metadata": {},
   "source": [
    "# Integrated Gradients (Not working really well, need to improve)"
   ]
  },
  {
   "cell_type": "code",
   "execution_count": 22,
   "metadata": {},
   "outputs": [
    {
     "name": "stdout",
     "output_type": "stream",
     "text": [
      "[[ 0.1498394]]\n",
      "['really', 'hate', 'the', 'food']\n",
      "(2,)\n",
      "Evaluated output channel (0-based index): All\n",
      "Building gradient functions\n",
      "[<tf.Tensor 'embedding_3_1/Gather:0' shape=(?, 300, 128) dtype=float32>, <tf.Tensor 'dropout_3/keras_learning_phase:0' shape=<unknown> dtype=bool>] [<tf.Tensor 'gradients_13/AddN_7:0' shape=(?, 300, 128) dtype=float32>]\n",
      "Progress: 100.0%\n",
      "Done.\n",
      "Haha\n",
      "(50, 300, 128)\n",
      "1\n",
      "[296 297 298 299]\n",
      "(4,)\n"
     ]
    },
    {
     "data": {
      "image/png": "[encoded data removed]",
      "text/plain": [
       "<matplotlib.figure.Figure at 0x7f408e57f748>"
      ]
     },
     "metadata": {},
     "output_type": "display_data"
    }
   ],
   "source": [
    "# replace with the data you want to classify\n",
    "newtexts = [\"really hate the food\"]\n",
    "word_sequences = text_to_word_sequence(newtexts[0])\n",
    "# note that we shouldn't call \"fit\" on the tokenizer again\n",
    "sequences = tokenizer.texts_to_sequences(newtexts)\n",
    "data = pad_sequences(sequences, maxlen=300)\n",
    "\n",
    "# get predictions for each of your new texts\n",
    "predictions = model.predict(data)\n",
    "print(predictions)\n",
    "print(word_sequences)\n",
    "\n",
    "embeddings = model.layers[0].get_weights()[0]\n",
    "word_embeddings = word_to_embedding(embeddings,data)\n",
    "ig = integrated_gradients(model)\n",
    "explanations = ig.explain(word_to_embedding(embeddings,data))\n",
    "print(len(explanations))\n",
    "final_explanations = np.abs(np.sum(explanations[0],axis = 1))\n",
    "print(np.where(final_explanations!=0)[0])\n",
    "final_explanations = final_explanations[np.where(final_explanations!=0)]\n",
    "print(final_explanations.shape)\n",
    "y_pos = np.arange(len(final_explanations))\n",
    "plt.bar(y_pos,final_explanations,align='center', alpha=0.5)\n",
    "plt.xticks(y_pos, word_sequences)\n",
    "plt.ylabel('Integrated Gradients')\n",
    "plt.title('Explanations for word in Review')\n",
    "plt.show()"
   ]
  },
  {
   "cell_type": "code",
   "execution_count": null,
   "metadata": {
    "collapsed": true
   },
   "outputs": [],
   "source": []
  }
 ],
 "metadata": {
  "kernelspec": {
   "display_name": "Python 3",
   "language": "python",
   "name": "python3"
  },
  "language_info": {
   "codemirror_mode": {
    "name": "ipython",
    "version": 3
   },
   "file_extension": ".py",
   "mimetype": "text/x-python",
   "name": "python",
   "nbconvert_exporter": "python",
   "pygments_lexer": "ipython3",
   "version": "3.6.3"
  }
 },
 "nbformat": 4,
 "nbformat_minor": 1
}
