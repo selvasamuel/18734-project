{
 "cells": [
  {
   "cell_type": "code",
   "execution_count": 2,
   "metadata": {},
   "outputs": [],
   "source": [
    "# Run 'pip3 install gender_guesser' to install gender_guesser.\n",
    "import gender_guesser.detector as gender\n",
    "import json"
   ]
  },
  {
   "cell_type": "code",
   "execution_count": null,
   "metadata": {
    "collapsed": true
   },
   "outputs": [],
   "source": [
    "# Replace the location here with the directory where you have stored the user.json file in.\n",
    "dataset_path = '/Users/ssamuel/Documents/CMU/Semester05/18-734/project/dataset/dataset'd\n",
    "users_file = dataset_path + '/user.json'"
   ]
  },
  {
   "cell_type": "code",
   "execution_count": null,
   "metadata": {
    "collapsed": true,
    "scrolled": true
   },
   "outputs": [],
   "source": [
    "gd = gender.Detector()\n",
    "\n",
    "num_users = 100\n",
    "out_file_name = 'user_gender.json'\n",
    "\n",
    "i = 0\n",
    "with open(users_file) as file:\n",
    "    with open(out_file_name, 'w') as out_file:\n",
    "        for line in file:\n",
    "            user_info = json.loads(line)\n",
    "\n",
    "#           conn = http.client.HTTPSConnection(\"api.genderize.io\")\n",
    "#           conn.request(\"GET\", \"/?name=\" + user_info['name'])\n",
    "#           resp = conn.getresponse()\n",
    "#           if resp.status == 200:\n",
    "#               data = resp.read()\n",
    "#               print(data)\n",
    "#           else:\n",
    "#               print(\"Error: Couldn't get gender for user with ID '\"\n",
    "#                     + user_info['user_id'] + \"' and name '\" + user_info['name'] + \"'.\")\n",
    "\n",
    "#           print(resp.getheaders())\n",
    "\n",
    "            user_gender = gd.get_gender(user_info['name'])\n",
    "            if user_gender == 'male' or user_gender == 'female':\n",
    "                #user_info['gender'] = user_gender\n",
    "                json.dump(user_info, out_file)\n",
    "                out_file.write('\\n')\n",
    "\n",
    "            i = i + 1\n",
    "            if i == num_users:\n",
    "                break\n"
   ]
  }
 ],
 "metadata": {
  "kernelspec": {
   "display_name": "Python 3",
   "language": "python",
   "name": "python3"
  },
  "language_info": {
   "codemirror_mode": {
    "name": "ipython",
    "version": 3
   },
   "file_extension": ".py",
   "mimetype": "text/x-python",
   "name": "python",
   "nbconvert_exporter": "python",
   "pygments_lexer": "ipython3",
   "version": "3.6.3"
  }
 },
 "nbformat": 4,
 "nbformat_minor": 2
}
