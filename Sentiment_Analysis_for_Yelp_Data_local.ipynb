{
 "cells": [
  {
   "cell_type": "code",
   "execution_count": 1,
   "metadata": {},
   "outputs": [
    {
     "name": "stderr",
     "output_type": "stream",
     "text": [
      "Using TensorFlow backend.\n"
     ]
    }
   ],
   "source": [
    "from collections import Counter\n",
    "from datetime import datetime\n",
    "import json\n",
    "\n",
    "from keras.layers import Embedding, LSTM, Dense, Conv1D, MaxPooling1D, Dropout, Activation\n",
    "from keras.models import Sequential\n",
    "from keras.preprocessing.text import Tokenizer,text_to_word_sequence\n",
    "from keras.preprocessing.sequence import pad_sequences\n",
    "from keras.models import load_model\n",
    "import pickle\n",
    "from IntegratedGradients import *\n",
    "from matplotlib import pyplot as plt\n",
    "import numpy as np\n",
    "caleb_path = '/Users/CalebKaijiLu/Documents/yelp_dataset/'\n",
    "selva_path = ''"
   ]
  },
  {
   "cell_type": "code",
   "execution_count": 4,
   "metadata": {
    "collapsed": true
   },
   "outputs": [],
   "source": [
    "def word_to_embedding(embeddings,data):\n",
    "    N = embeddings.shape[0]\n",
    "    M = embeddings.shape[1]\n",
    "    embeddings_aug = np.zeros([N+1,M])\n",
    "    embeddings_aug[1:,:]=embeddings\n",
    "    return embeddings_aug[np.array(data)]"
   ]
  },
  {
   "cell_type": "code",
   "execution_count": 3,
   "metadata": {},
   "outputs": [
    {
     "name": "stdout",
     "output_type": "stream",
     "text": [
      "0:00:00.220188\n"
     ]
    }
   ],
   "source": [
    "\n",
    "t1 = datetime.now()\n",
    "with open(caleb_path + \"review.json\") as f:\n",
    "    reviews = f.read(int(1e7)).strip().split(\"\\n\")\n",
    "reviews = reviews[:10000]\n",
    "reviews = [json.loads(review) for review in reviews]\n",
    "print(datetime.now() - t1)"
   ]
  },
  {
   "cell_type": "code",
   "execution_count": 4,
   "metadata": {
    "collapsed": true
   },
   "outputs": [],
   "source": [
    "# Get a balanced sample of positive and negative reviews\n",
    "texts = [review['text'] for review in reviews]\n",
    "\n",
    "# Convert our 5 classes into 2 (negative or positive)\n",
    "binstars = [0 if review['stars'] <= 3 else 1 for review in reviews]\n",
    "balanced_texts = []\n",
    "balanced_labels = []\n",
    "limit = 1000  #Change this to grow/shrink the dataset\n",
    "neg_pos_counts = [0, 0]\n",
    "for i in range(len(texts)):\n",
    "    polarity = binstars[i]\n",
    "    if neg_pos_counts[polarity]<limit:\n",
    "        balanced_texts.append(texts[i])\n",
    "        balanced_labels.append(binstars[i])\n",
    "        neg_pos_counts[polarity]+=1"
   ]
  },
  {
   "cell_type": "code",
   "execution_count": 5,
   "metadata": {
    "scrolled": true
   },
   "outputs": [
    {
     "data": {
      "text/plain": [
       "Counter({0: 1000, 1: 1000})"
      ]
     },
     "execution_count": 5,
     "metadata": {},
     "output_type": "execute_result"
    }
   ],
   "source": [
    "Counter(balanced_labels)"
   ]
  },
  {
   "cell_type": "code",
   "execution_count": 12,
   "metadata": {},
   "outputs": [
    {
     "name": "stdout",
     "output_type": "stream",
     "text": [
      "{'is': 1, 'common': 2, 'the': 3, 'a': 4, 'word': 5, 'so': 6, 'discombobulation': 7, 'not': 8}\n"
     ]
    }
   ],
   "source": [
    "tokenizer = Tokenizer(num_words=5)\n",
    "toytexts = [\"Is is a common word\", \"So is the\", \"the is common\", \"discombobulation is not common\"]\n",
    "tokenizer.fit_on_texts(toytexts)\n",
    "print(tokenizer.word_index)\n",
    "sequences = tokenizer.texts_to_sequences(toytexts)\n",
    "\n",
    "\n",
    "# >>> [[1, 1, 4, 2], [1, 3], [3, 1, 2], [1, 2]]"
   ]
  },
  {
   "cell_type": "code",
   "execution_count": 7,
   "metadata": {},
   "outputs": [
    {
     "name": "stdout",
     "output_type": "stream",
     "text": [
      "[[1, 1, 4, 2], [1, 3], [3, 1, 2], [1, 2]]\n"
     ]
    }
   ],
   "source": [
    "print(sequences)\n",
    "# >>> [[1, 1, 4, 2], [1, 3], [3, 1, 2], [1, 2]]"
   ]
  },
  {
   "cell_type": "code",
   "execution_count": null,
   "metadata": {},
   "outputs": [],
   "source": [
    "tokenizer = Tokenizer(num_words=20000)\n",
    "tokenizer.fit_on_texts(balanced_texts)\n",
    "sequences = tokenizer.texts_to_sequences(balanced_texts)\n",
    "data = pad_sequences(sequences, maxlen=300)"
   ]
  },
  {
   "cell_type": "code",
   "execution_count": 9,
   "metadata": {},
   "outputs": [
    {
     "name": "stdout",
     "output_type": "stream",
     "text": [
      "Train on 1000 samples, validate on 1000 samples\n",
      "Epoch 1/6\n",
      "1000/1000 [==============================] - 16s - loss: 0.5985 - acc: 0.7040 - val_loss: 1.0563 - val_acc: 0.2780\n",
      "Epoch 2/6\n",
      "1000/1000 [==============================] - 19s - loss: 0.4869 - acc: 0.7220 - val_loss: 1.1755 - val_acc: 0.2820\n",
      "Epoch 3/6\n",
      "1000/1000 [==============================] - 15s - loss: 0.2064 - acc: 0.9170 - val_loss: 0.7994 - val_acc: 0.6480\n",
      "Epoch 4/6\n",
      "1000/1000 [==============================] - 14s - loss: 0.0470 - acc: 0.9900 - val_loss: 1.5380 - val_acc: 0.5360\n",
      "Epoch 5/6\n",
      "1000/1000 [==============================] - 15s - loss: 0.0206 - acc: 0.9970 - val_loss: 1.2485 - val_acc: 0.6360\n",
      "Epoch 6/6\n",
      "1000/1000 [==============================] - 14s - loss: 0.0048 - acc: 0.9990 - val_loss: 1.6070 - val_acc: 0.5900\n"
     ]
    },
    {
     "data": {
      "text/plain": [
       "<keras.callbacks.History at 0x18281b62e8>"
      ]
     },
     "execution_count": 9,
     "metadata": {},
     "output_type": "execute_result"
    }
   ],
   "source": [
    "model = Sequential()\n",
    "model.add(Embedding(20000, 128, input_length=300))\n",
    "# model.add(Dropout(0.2))\n",
    "model.add(Conv1D(64, 5, activation='relu'))\n",
    "model.add(MaxPooling1D(pool_size=4))\n",
    "model.add(LSTM(128))\n",
    "model.add(Dense(1, activation='sigmoid'))\n",
    "model.compile(loss='binary_crossentropy', optimizer='adam', metrics=['accuracy'])\n",
    "model.fit(data, np.array(balanced_labels), validation_split=0.5, epochs=6)"
   ]
  },
  {
   "cell_type": "code",
   "execution_count": 11,
   "metadata": {
    "collapsed": true
   },
   "outputs": [],
   "source": [
    "# save the tokenizer and model\n",
    "with open(\"keras_tokenizer.pickle\", \"wb\") as f:\n",
    "        pickle.dump(tokenizer, f)\n",
    "model.save(\"yelp_sentiment_model.hdf5\")"
   ]
  },
  {
   "cell_type": "code",
   "execution_count": null,
   "metadata": {
    "collapsed": true
   },
   "outputs": [],
   "source": [
    "for i in model.model.inputs:\n",
    "    print(i)\n",
    "print(range(model.model.output.shape[1]._value))\n",
    "for i in range(model.model.output.shape[1]._value):\n",
    "    print(i)\n",
    "print(model.model.inputs)\n",
    "print(model.model.output[:,0].shape)\n",
    "print(dir(model.model.optimizer))\n",
    "print(model.model.optimizer.get_gradients(model.model.output[:,0],model.model.layers[1].output))"
   ]
  },
  {
   "cell_type": "code",
   "execution_count": null,
   "metadata": {
    "collapsed": true
   },
   "outputs": [],
   "source": [
    "np.shape(model.output)\n",
    "np.shape(data)\n",
    "np.shape(np.array(balanced_labels))"
   ]
  },
  {
   "cell_type": "code",
   "execution_count": null,
   "metadata": {
    "collapsed": true
   },
   "outputs": [],
   "source": [
    "input_tensors = []\n",
    "input_tensors.append(model.model.layers[1].output)\n",
    "# The learning phase flag is a bool tensor (0 = test, 1 = train)\n",
    "# to be passed as input to any Keras function that uses \n",
    "# a different behavior at train time and test time.\n",
    "input_tensors.append(K.learning_phase())\n",
    "print(np.shape(input_tensors))\n",
    "\n",
    "gradients = model.model.optimizer.get_gradients(model.model.output[:,0],model.model.layers[1].output)\n",
    "print(gradients)\n",
    "print(range(model.model.output.shape[1]._value))\n",
    "print (K.function(inputs=input_tensors, outputs=gradients))"
   ]
  },
  {
   "cell_type": "code",
   "execution_count": 2,
   "metadata": {
    "collapsed": true
   },
   "outputs": [],
   "source": [
    "# load the tokenizer and the model\n",
    "with open(\"keras_tokenizer_server.pickle\", \"rb\") as f:\n",
    "       tokenizer = pickle.load(f)\n",
    "\n",
    "model = load_model(\"yelp_sentiment_model_server.hdf5\")"
   ]
  },
  {
   "cell_type": "code",
   "execution_count": 31,
   "metadata": {},
   "outputs": [
    {
     "name": "stdout",
     "output_type": "stream",
     "text": [
      "[[ 0.02246372]]\n",
      "['i', 'went', 'with', 'my', 'friend', 'after', 'shcool', 'really', 'hate', 'the', 'bread', 'tastes', 'awful']\n",
      "(2,)\n",
      "Evaluated output channel (0-based index): All\n",
      "Building gradient functions\n",
      "[<tf.Tensor 'embedding_3/Gather:0' shape=(?, 300, 128) dtype=float32>, <tf.Tensor 'keras_learning_phase:0' shape=<unknown> dtype=bool>] [<tf.Tensor 'gradients_23/AddN_7:0' shape=(?, 300, 128) dtype=float32>]\n",
      "Progress: 100.0%\n",
      "Done.\n",
      "Haha\n",
      "(50, 300, 128)\n",
      "1\n",
      "[288 289 290 291 292 293 294 295 296 297 298 299]\n",
      "(12,)\n"
     ]
    },
    {
     "data": {
      "image/png": "[encoded data removed]",
      "text/plain": [
       "<matplotlib.figure.Figure at 0x1848efe710>"
      ]
     },
     "metadata": {},
     "output_type": "display_data"
    }
   ],
   "source": [
    "# replace with the data you want to classify\n",
    "newtexts = [\"I went with my friend after shcool, really hate the bread,tastes awful\"]\n",
    "word_sequences = text_to_word_sequence(newtexts[0])\n",
    "# note that we shouldn't call \"fit\" on the tokenizer again\n",
    "sequences = tokenizer.texts_to_sequences(newtexts)\n",
    "data = pad_sequences(sequences, maxlen=300)\n",
    "\n",
    "# get predictions for each of your new texts\n",
    "predictions = model.predict(data)\n",
    "print(predictions)\n",
    "print(word_sequences)\n",
    "\n",
    "embeddings = model.layers[0].get_weights()[0]\n",
    "word_embeddings = word_to_embedding(embeddings,data)\n",
    "ig = integrated_gradients(model)\n",
    "explanations = ig.explain(word_to_embedding(embeddings,data))\n",
    "print(len(explanations))\n",
    "final_explanations = np.abs(np.sum(explanations[0],axis = 1))\n",
    "print(np.where(final_explanations!=0)[0])\n",
    "final_explanations = final_explanations[np.where(final_explanations!=0)]\n",
    "print(final_explanations.shape)\n",
    "y_pos = np.arange(0,2*len(final_explanations),2)\n",
    "plt.bar(y_pos,final_explanations,align='center', alpha=0.5)\n",
    "plt.xticks(y_pos, word_sequences)\n",
    "plt.ylabel('Integrated Gradients')\n",
    "plt.title('Explanations for word in Review')\n",
    "plt.show()"
   ]
  },
  {
   "cell_type": "code",
   "execution_count": null,
   "metadata": {
    "collapsed": true
   },
   "outputs": [],
   "source": []
  }
 ],
 "metadata": {
  "kernelspec": {
   "display_name": "Python 3",
   "language": "python",
   "name": "python3"
  },
  "language_info": {
   "codemirror_mode": {
    "name": "ipython",
    "version": 3
   },
   "file_extension": ".py",
   "mimetype": "text/x-python",
   "name": "python",
   "nbconvert_exporter": "python",
   "pygments_lexer": "ipython3",
   "version": "3.6.3"
  }
 },
 "nbformat": 4,
 "nbformat_minor": 1
}
